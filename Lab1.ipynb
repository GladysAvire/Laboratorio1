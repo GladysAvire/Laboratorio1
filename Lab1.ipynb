{
 "cells": [
  {
   "cell_type": "markdown",
   "id": "82c8f1ce-e520-46ff-b095-0527b135fcef",
   "metadata": {},
   "source": [
    "# Que es Git?"
   ]
  },
  {
   "cell_type": "markdown",
   "id": "1538bbd2-cff1-49b6-bf92-598103dc5f7a",
   "metadata": {},
   "source": [
    "## Git es un sistema de control de versiones distribuido gratuito y de código abierto diseñado para manejar todo, desde proyectos pequeños hasta proyectos muy grandes con velocidad y eficiencia."
   ]
  },
  {
   "cell_type": "markdown",
   "id": "12728d58-0e76-438a-b6ab-a0cdf631d637",
   "metadata": {},
   "source": [
    "### Git es fácil de aprender y ocupa poco espacio con un rendimiento ultrarrápido. Supera a las herramientas SCM como Subversion, CVS, Perforce y ClearCase con características como ramificaciones locales económicas, áreas de preparación convenientes y múltiples flujos de trabajo."
   ]
  },
  {
   "cell_type": "markdown",
   "id": "ec3c5698-45e7-449d-8d05-ed75650c9f56",
   "metadata": {},
   "source": [
    "#### Ramificación y fusión\n",
    "La característica de Git que realmente lo distingue de casi todos los demás SCM es su modelo de ramificación.\n",
    "\n",
    "Git permite y hace posible tener múltiples sucursales locales que pueden ser completamente independientes entre sí. \n",
    "\n",
    "Se pueden hacer cosas como:\n",
    "\n",
    "Cambio de contexto sin fricciones. Crear una rama para probar una idea, comprometerla varias veces, vuelve al lugar desde donde se ramificó, aplicar un parche, volver al lugar donde está experimentando y fusionar.\n",
    "Líneas de código basadas en roles. Tener una rama que siempre contenga solo lo que va a producción, otra en la que combine el trabajo para realizar pruebas y varias más pequeñas para el trabajo diario.\n",
    "Flujo de trabajo basado en funciones. Crear nuevas ramas para cada característica nueva en la que se esté trabajando para que pueda alternar sin problemas entre ellas, luego eliminar cada rama cuando esa característica se combine con su línea principal.\n",
    "Experimentación desechable. Crear una rama para experimentar, comprender que no va a funcionar y simplemente elimínarla, abandonando el trabajo, sin que nadie más la vea (incluso si se ha impulsado otras ramas mientras tanto)."
   ]
  },
  {
   "cell_type": "markdown",
   "id": "8bdb69d9-7a7f-4e3b-8026-55ae79206d79",
   "metadata": {},
   "source": [
    "#### Gratis y de código abierto\n",
    "Git se publica bajo la Licencia Pública General GNU versión 2.0, que es una licencia de código abierto. El proyecto Git optó por utilizar GPLv2 para garantizar su libertad de compartir y cambiar software libre, para asegurarse de que el software sea gratuito para todos sus usuarios."
   ]
  },
  {
   "cell_type": "markdown",
   "id": "af2361a7-7783-4784-87ae-2d61f22ec68c",
   "metadata": {},
   "source": [
    "# Que es GitHub?"
   ]
  },
  {
   "cell_type": "markdown",
   "id": "57a9f52c-3d99-4f8a-91a2-89dc9465f0c8",
   "metadata": {},
   "source": [
    "## GitHub es una plataforma en línea que facilita la colaboración y el alojamiento de proyectos de software utilizando el sistema de control de versiones Git. Fue fundada en 2008 y se ha convertido en una de las herramientas más populares para el desarrollo de software colaborativo, con millones de usuarios en todo el mundo."
   ]
  },
  {
   "cell_type": "markdown",
   "id": "48825123-6dcc-4d8a-90b3-d149bc0445cf",
   "metadata": {},
   "source": [
    "### GitHub es una plataforma integral para el desarrollo de software colaborativo, que ofrece herramientas poderosas para el control de versiones, la colaboración en equipo y la gestión de proyectos. Es ampliamente utilizado en la industria de la tecnología y la comunidad de desarrollo de software en general."
   ]
  },
  {
   "cell_type": "markdown",
   "id": "50613f24-8c08-4f76-b8b3-0cf0d73af68f",
   "metadata": {},
   "source": [
    "### Características de GitHub:\n",
    "\n",
    "Control de Versiones: GitHub utiliza Git como su sistema de control de versiones, lo que permite a los desarrolladores realizar un seguimiento de los cambios en el código fuente a lo largo del tiempo. Esto facilita la colaboración en proyectos de software, ya que múltiples personas pueden trabajar en el mismo código sin interferir con el trabajo de los demás.\n",
    "\n",
    "Alojamiento de Repositorios: GitHub proporciona alojamiento en la nube para repositorios de Git, lo que permite a los desarrolladores almacenar y compartir su código de forma segura. Los repositorios en GitHub pueden ser públicos (accesibles para todos) o privados (accesibles solo para colaboradores autorizados).\n",
    "\n",
    "Colaboración: GitHub ofrece herramientas para facilitar la colaboración en proyectos de software, como seguimiento de problemas, solicitudes de extracción, revisión de código y comentarios en línea. Estas características ayudan a los equipos a coordinar y revisar el trabajo de manera efectiva.\n",
    "\n",
    "Integración Continua y Despliegue: GitHub proporciona integración con herramientas de integración continua (CI) y despliegue continuo (CD), lo que permite automatizar la construcción, las pruebas y el despliegue de aplicaciones directamente desde el repositorio de GitHub.\n",
    "\n",
    "Comunidad: GitHub cuenta con una gran comunidad de desarrolladores que contribuyen a proyectos de código abierto y comparten su trabajo con otros. Esto fomenta el aprendizaje, la colaboración y la innovación en el desarrollo de software."
   ]
  },
  {
   "cell_type": "markdown",
   "id": "29bfd390-1945-4733-9a03-2418362bebe5",
   "metadata": {},
   "source": [
    "# Que es MagicCells?"
   ]
  },
  {
   "cell_type": "markdown",
   "id": "955a1aa2-dec7-4bc4-a7ac-ef6b01f09ca0",
   "metadata": {},
   "source": [
    "## MagicCells es una característica que permite ejecutar comandos de diferentes lenguajes de programación directamente desde una celda de código, sin necesidad de usar celdas específicas para cada lenguaje. Esto se logra mediante el uso de \"magics\" o comandos especiales que comienzan con % para una única línea o %% para múltiples líneas, seguido del nombre del lenguaje que se desea utilizar."
   ]
  },
  {
   "cell_type": "code",
   "execution_count": null,
   "id": "74247b3d-c06f-46ee-8033-80d4e5db2fe6",
   "metadata": {},
   "outputs": [],
   "source": [
    https://github.com/GladysAvire/Laboratorio1/blob/main/Lab1.ipynb 
   ]
  },
  {
   "cell_type": "code",
   "execution_count": null,
   "id": "9131a769-a541-41ec-8afa-5c9ed88d8dfe",
   "metadata": {},
   "outputs": [],
   "source": []
  }
 ],
 "metadata": {
  "kernelspec": {
   "display_name": "Python 3 (ipykernel)",
   "language": "python",
   "name": "python3"
  },
  "language_info": {
   "codemirror_mode": {
    "name": "ipython",
    "version": 3
   },
   "file_extension": ".py",
   "mimetype": "text/x-python",
   "name": "python",
   "nbconvert_exporter": "python",
   "pygments_lexer": "ipython3",
   "version": "3.11.5"
  }
 },
 "nbformat": 4,
 "nbformat_minor": 5
}
